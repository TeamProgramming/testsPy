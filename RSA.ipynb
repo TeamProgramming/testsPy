{
 "cells": [
  {
   "cell_type": "code",
   "execution_count": 56,
   "metadata": {
    "collapsed": true
   },
   "outputs": [
    {
     "name": "stdout",
     "output_type": "stream",
     "text": [
      "192 - А\n",
      "193 - Б\n",
      "194 - В\n",
      "195 - Г\n",
      "196 - Д\n",
      "197 - Е\n",
      "198 - Ж\n",
      "199 - З\n",
      "200 - И\n",
      "201 - Й\n",
      "202 - К\n",
      "203 - Л\n",
      "204 - М\n",
      "205 - Н\n",
      "206 - О\n",
      "207 - П\n",
      "208 - Р\n",
      "209 - С\n",
      "210 - Т\n",
      "211 - У\n",
      "212 - Ф\n",
      "213 - Х\n",
      "214 - Ц\n",
      "215 - Ч\n",
      "216 - Ш\n",
      "217 - Щ\n",
      "218 - Ъ\n",
      "219 - Ы\n",
      "220 - Ь\n",
      "221 - Э\n",
      "222 - Ю\n",
      "223 - Я\n",
      "224 - а\n",
      "225 - б\n",
      "226 - в\n",
      "227 - г\n",
      "228 - д\n",
      "229 - е\n",
      "230 - ж\n",
      "231 - з\n",
      "232 - и\n",
      "233 - й\n",
      "234 - к\n",
      "235 - л\n",
      "236 - м\n",
      "237 - н\n",
      "238 - о\n",
      "239 - п\n",
      "240 - р\n",
      "241 - с\n",
      "242 - т\n",
      "243 - у\n",
      "244 - ф\n",
      "245 - х\n",
      "246 - ц\n",
      "247 - ч\n",
      "248 - ш\n",
      "249 - щ\n",
      "250 - ъ\n",
      "251 - ы\n",
      "252 - ь\n",
      "253 - э\n",
      "254 - ю\n",
      "255 - я\n"
     ]
    }
   ],
   "source": [
    "ru = {}\n",
    "for i in range(256,10000):\n",
    "    if 'а'<=chr(i)<='я' or 'А'<=chr(i)<='Я':\n",
    "        print(i-848,'-', chr(i))\n",
    "        ru[chr(i)]=i-848"
   ]
  },
  {
   "cell_type": "code",
   "execution_count": 57,
   "metadata": {},
   "outputs": [
    {
     "data": {
      "text/plain": [
       "253"
      ]
     },
     "execution_count": 57,
     "metadata": {},
     "output_type": "execute_result"
    }
   ],
   "source": []
  },
  {
   "cell_type": "code",
   "execution_count": 47,
   "metadata": {
    "collapsed": true
   },
   "outputs": [],
   "source": [
    "import math\n",
    "\n",
    "def phi(n):\n",
    "    amount = 0\n",
    "\n",
    "    for k in range(1, n + 1):\n",
    "        if math.gcd(n, k) == 1:\n",
    "            amount += 1\n",
    "\n",
    "    return amount"
   ]
  },
  {
   "cell_type": "code",
   "execution_count": 48,
   "metadata": {
    "collapsed": true
   },
   "outputs": [],
   "source": [
    "e, n = 325, 391\n",
    "E = lambda m: (pow(m,e))%n"
   ]
  },
  {
   "cell_type": "code",
   "execution_count": 49,
   "metadata": {
    "collapsed": true
   },
   "outputs": [],
   "source": [
    "d, n = 13,391\n",
    "E = lambda c: (pow(c,d))%n"
   ]
  },
  {
   "cell_type": "code",
   "execution_count": 50,
   "metadata": {},
   "outputs": [
    {
     "data": {
      "text/plain": [
       "391"
      ]
     },
     "execution_count": 50,
     "metadata": {},
     "output_type": "execute_result"
    }
   ],
   "source": [
    "p, q = 23, 17\n",
    "EulerPhi(p*q)\n",
    "p*q"
   ]
  },
  {
   "cell_type": "markdown",
   "metadata": {},
   "source": [
    "$$ d\\cdot e\\equiv 1{\\pmod {\\varphi (n)}} $$\n"
   ]
  },
  {
   "cell_type": "code",
   "execution_count": 51,
   "metadata": {},
   "outputs": [
    {
     "name": "stdout",
     "output_type": "stream",
     "text": [
      "1\n"
     ]
    }
   ],
   "source": [
    "print ( (e*d)%22)"
   ]
  },
  {
   "cell_type": "markdown",
   "metadata": {},
   "source": [
    "[обратный элемент](https://ru.wikipedia.org/wiki/%D0%A4%D1%83%D0%BD%D0%BA%D1%86%D0%B8%D1%8F_%D0%AD%D0%B9%D0%BB%D0%B5%D1%80%D0%B0#.D0.92.D1.8B.D1.87.D0.B8.D1.81.D0.BB.D0.B5.D0.BD.D0.B8.D0.B5_.D0.BE.D0.B1.D1.80.D0.B0.D1.82.D0.BD.D0.BE.D0.B3.D0.BE_.D1.8D.D0.BB.D0.B5.D0.BC.D0.B5.D0.BD.D1.82.D0.B0)\n",
    "$$a^{-1} \\equiv a^{\\varphi(n)-1} \\pmod n, если { \\displaystyle (a,n)=1.} (a,n) = 1. $$"
   ]
  },
  {
   "cell_type": "code",
   "execution_count": 52,
   "metadata": {},
   "outputs": [],
   "source": [
    "a_1 = lambda a,n: pow(a,phi(n)-1)%n"
   ]
  },
  {
   "cell_type": "code",
   "execution_count": 53,
   "metadata": {},
   "outputs": [],
   "source": [
    "e = a_1(d,phi(n))"
   ]
  },
  {
   "cell_type": "code",
   "execution_count": 58,
   "metadata": {},
   "outputs": [
    {
     "data": {
      "text/plain": [
       "253"
      ]
     },
     "execution_count": 58,
     "metadata": {},
     "output_type": "execute_result"
    }
   ],
   "source": [
    "ru['э']\n"
   ]
  },
  {
   "cell_type": "code",
   "execution_count": 31,
   "metadata": {},
   "outputs": [
    {
     "data": {
      "text/plain": [
       "6.666666666666666"
      ]
     },
     "execution_count": 31,
     "metadata": {},
     "output_type": "execute_result"
    }
   ],
   "source": []
  },
  {
   "cell_type": "code",
   "execution_count": null,
   "metadata": {
    "collapsed": true
   },
   "outputs": [],
   "source": []
  }
 ],
 "metadata": {
  "kernelspec": {
   "display_name": "Python 3",
   "language": "python",
   "name": "python3"
  },
  "language_info": {
   "codemirror_mode": {
    "name": "ipython",
    "version": 3
   },
   "file_extension": ".py",
   "mimetype": "text/x-python",
   "name": "python",
   "nbconvert_exporter": "python",
   "pygments_lexer": "ipython3",
   "version": "3.6.1"
  }
 },
 "nbformat": 4,
 "nbformat_minor": 2
}
